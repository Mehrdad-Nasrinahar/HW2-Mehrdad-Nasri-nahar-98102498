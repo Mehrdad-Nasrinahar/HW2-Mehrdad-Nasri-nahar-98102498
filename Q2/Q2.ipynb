{
  "nbformat": 4,
  "nbformat_minor": 0,
  "metadata": {
    "colab": {
      "provenance": [],
      "gpuType": "T4"
    },
    "kernelspec": {
      "name": "python3",
      "display_name": "Python 3"
    },
    "language_info": {
      "name": "python"
    },
    "accelerator": "GPU"
  },
  "cells": [
    {
      "cell_type": "markdown",
      "source": [
        "با توجه به مقاله می توان گفت در الگوریتم فوروارد فوروارد دیگر تابع لاس کلی در لایه آخر نداریم و در این روش هر لایه دارای یک تابع لاس محلی می باشد که مشتق آن به صورت محلی محاسبه می شود. همچنین با توجه به لاس تعریف شده می توان گفت  این تابع به هر لایه فشار می آورد تا مقادیر بزرگتر از آستانه تعیین شده برای داده های مثبت تولید کند و همچنین مقادیر کوچکتر از آستانه تعیین شده را برای داده های منفی خروجی دهد. بدین ترتیب شروط گوودنس را برآورده می کند.\n",
        "در پیاده سازی الگوریتم ابتدا یک کلاس برای تعریف هر لایه تعریف کردم سپس یک کلاس برای شبکه یادگیری تعریف کردم. توابع موردنیاز را در کلاس شبکه تعریف کردم. تابع لاس و روش بهینه سازی و محاسبه گوودنس در کلاس لایه انجام شده است . در کلاس شبکه برای هر سری داده گوودنس را برای تمام کلاس ها محاسبه می کنیم . در نهایت کلاسی که بیشترین مقدار گوودنس را دارد انتخاب می شود."
      ],
      "metadata": {
        "id": "9MOgPBlHPmi_"
      }
    },
    {
      "cell_type": "code",
      "execution_count": null,
      "metadata": {
        "id": "vEeEb9HN0_VQ"
      },
      "outputs": [],
      "source": [
        "import torch\n",
        "import torch.nn as nn\n",
        "from torchvision.datasets import MNIST\n",
        "from torchvision.transforms import Compose, ToTensor\n",
        "from torch.utils.data import DataLoader\n",
        "from torch.optim import Adam\n",
        "import random\n",
        "import matplotlib.pyplot as plt"
      ]
    },
    {
      "cell_type": "code",
      "source": [
        "class Layer(nn.Linear):\n",
        "    def __init__(self, in_features, out_features, bias=True, device=None, dtype=None):\n",
        "        super().__init__(in_features, out_features, bias, device, dtype)\n",
        "        self.relu = torch.nn.ReLU()\n",
        "        self.optimizer = Adam(self.parameters(), lr = 0.1)\n",
        "        self.threshold = 2\n",
        "        self.epoch_num = 500\n",
        "\n",
        "    def forward(self, x):\n",
        "        x_normalized = x / (x.norm(2, 1, keepdim=True) + 1e-4)\n",
        "        result = self.relu(torch.mm(x_normalized, self.weight.T) + self.bias.unsqueeze(0))\n",
        "        return result\n",
        "\n",
        "    def train(self, x_positive, x_negative):\n",
        "        for i in range(self.epoch_num):\n",
        "            positive_data_output = self.forward(x_positive).pow(2).mean(1)\n",
        "            negative_data_output = self.forward(x_negative).pow(2).mean(1)\n",
        "            loss = torch.log(1+ torch.exp(torch.cat([self.threshold-positive_data_output,negative_data_output-self.threshold]))).mean()\n",
        "            self.optimizer.zero_grad()\n",
        "            loss.backward()\n",
        "            self.optimizer.step()\n",
        "            result_positive  = self.forward(x_positive).detach()\n",
        "            result_negative  = self.forward(x_negative).detach()\n",
        "        return result_positive, result_negative"
      ],
      "metadata": {
        "id": "-clOeFcl1Iyj"
      },
      "execution_count": null,
      "outputs": []
    },
    {
      "cell_type": "code",
      "source": [
        "class my_Network(nn.Module):\n",
        "  def __init__(self, dimension):\n",
        "    super().__init__()\n",
        "    self.layers = []\n",
        "    for i in range(len(dimension)-1):\n",
        "      self.layers.append(Layer(dimension[i],dimension[i+1]).cuda())\n",
        "\n",
        "  def input_flatten(self , x):\n",
        "    return torch.flatten(x)\n",
        "  # تعریف تابع برای لود کردن دیتاست\n",
        "  def Load_MNISTdataset(self,batch_size_tr = 50000, batch_size_te = 10000):\n",
        "    transform = Compose([ToTensor() , self.input_flatten])\n",
        "    dataset_tr = MNIST(root = './data/', train=True, transform=transform, download=True)\n",
        "    dataset_te = MNIST(root = './data/', train=False, transform=transform, download=True)\n",
        "    loader_train = DataLoader(dataset_tr, batch_size=batch_size_tr, shuffle=True)\n",
        "    loader_test = DataLoader(dataset_te, batch_size=batch_size_te, shuffle=True)\n",
        "    return loader_train, loader_test\n",
        "  # تابع های تولید داده های مثبت و منفی\n",
        "  def generate_positive_data(self,x, y):\n",
        "    x_positive = x.clone()\n",
        "    max_value = x_positive.max()\n",
        "    x_positive[:, :10] = x_positive[:, :10] * 0\n",
        "    x_positive[range(x.shape[0]), y] = max_value\n",
        "    return x_positive\n",
        "  def generate_negative_data(self,x):\n",
        "    y = torch.randint(10, (x.shape[0],))\n",
        "    x_negative = x.clone()\n",
        "    max_value = x_negative.max()\n",
        "    x_negative[:, :10] = x_negative[:, :10] * 0\n",
        "    x_negative[range(x.shape[0]), y] = max_value\n",
        "    return x_negative\n",
        "\n",
        "  def predict(self, x):\n",
        "    goodness_score_forlabel = []\n",
        "    for i in range(10):\n",
        "      h = self.generate_positive_data(x, i)\n",
        "      goodness = []\n",
        "      for j in self.layers:\n",
        "        h = j(h)\n",
        "        goodness = goodness + [h.pow(2).mean(1)]\n",
        "      goodness_score_forlabel = goodness_score_forlabel + [sum(goodness).unsqueeze(1)]\n",
        "    goodness_score_forlabel = torch.cat(goodness_score_forlabel, 1)\n",
        "    result = goodness_score_forlabel.argmax(1)\n",
        "    return result\n",
        "\n",
        "  def train(self, x_positive, x_negative):\n",
        "    h_positive = x_positive\n",
        "    h_negative = x_negative\n",
        "    for i, j in enumerate(self.layers):\n",
        "      print('training layer', i, '...')\n",
        "      h_positive, h_negative = j.train(h_positive, h_negative)"
      ],
      "metadata": {
        "id": "sTQcPhHXkNKh"
      },
      "execution_count": null,
      "outputs": []
    },
    {
      "cell_type": "code",
      "source": [
        "# آموزش مدل تعریف شده با دیتاست موردنظر و گزارش دقت مدل روی داده های آموزش و داده های تست\n",
        "my_Forward_Forward_model = my_Network([784,500,300,100])\n",
        "load_tr, load_te = my_Forward_Forward_model.Load_MNISTdataset()\n",
        "for x, y in load_tr:\n",
        "  x = x.cuda()\n",
        "  y = y.cuda()\n",
        "  positive_data = my_Forward_Forward_model.generate_positive_data(x, y)\n",
        "  negative_data = my_Forward_Forward_model.generate_negative_data(x)\n",
        "  my_Forward_Forward_model.train(positive_data, negative_data)\n",
        "  predictionTrain = my_Forward_Forward_model.predict(x)\n",
        "  predictions_tr = (predictionTrain == y).sum().item()\n",
        "  num_l = y.shape[0]\n",
        "  accuracy_tr = predictions_tr / num_l\n",
        "  print('accuracy of Forward Forward Algorithm on Train set:', accuracy_tr)\n",
        "  print('Error of Forward Forward Algorithm on Train set:', 1 - accuracy_tr)\n",
        "  break\n",
        "for x_test,y_test in load_te:\n",
        "  x_test = x_test.cuda()\n",
        "  y_test = y_test.cuda()\n",
        "  predictionTest = my_Forward_Forward_model.predict(x_test)\n",
        "  predictions_te = (predictionTest == y_test).sum().item()\n",
        "  num_l_ = y_test.shape[0]\n",
        "  accuracy_te = predictions_te / num_l_\n",
        "  print('accuracy of Forward Forward Algorithm on Test set:', accuracy_te)\n",
        "  print('Error of Forward Forward Algorithm on Test set:', 1 - accuracy_te)\n",
        "  break"
      ],
      "metadata": {
        "colab": {
          "base_uri": "https://localhost:8080/"
        },
        "id": "J6y4uG6Xmypf",
        "outputId": "bb9a134b-09cf-4f45-dcdc-02ab3aa67a70"
      },
      "execution_count": null,
      "outputs": [
        {
          "output_type": "stream",
          "name": "stdout",
          "text": [
            "training layer 0 ...\n",
            "training layer 1 ...\n",
            "training layer 2 ...\n",
            "accuracy of Forward Forward Algorithm on Train set: 0.90426\n",
            "Error of Forward Forward Algorithm on Train set: 0.09574000000000005\n",
            "accuracy of Forward Forward Algorithm on Test set: 0.9029\n",
            "Error of Forward Forward Algorithm on Test set: 0.09709999999999996\n"
          ]
        }
      ]
    },
    {
      "cell_type": "code",
      "source": [
        "# این بخش برای قسمت دوم سوال می باشد\n",
        "# دیتاست را لود کردم\n",
        "train_dataset = MNIST(root = \"./data/\",download=True, train=True, transform=ToTensor())\n",
        "test_dataset = MNIST(root = \"./data/\",download=True, train=False, transform=ToTensor())\n",
        "loader_tr = DataLoader(train_dataset, batch_size=1000, shuffle=True)\n",
        "loader_te = DataLoader(test_dataset, batch_size=1000, shuffle=True)\n",
        "\n",
        "# تعریف تابع برای تولید ماسک به روش گفته شده در مقاله\n",
        "def generate_mask():\n",
        "    random_image = torch.randint(2, size=(1, 1, 28, 28), dtype=torch.float32)\n",
        "    blur_kernel = torch.tensor([[1/4, 1/2, 1/4], [1/2, 1, 1/2], [1/4, 1/2, 1/4]]) / 4\n",
        "    blur_kernel = blur_kernel.view(1, 1, 3, 3)\n",
        "    for i in range(5):\n",
        "        random_image = torch.nn.functional.conv2d(random_image, blur_kernel, padding='same')\n",
        "    mask = (random_image > 0.5).float().squeeze()\n",
        "    return mask\n",
        "# تولید داده های هیبرید به روش گفته شده در مقاله\n",
        "def generate_hybrid_data(x):\n",
        "    i = torch.randperm(x.shape[0])\n",
        "    first_sample = x\n",
        "    second_sample = x[i]\n",
        "    mask = generate_mask()\n",
        "    new_first_sample = first_sample * mask\n",
        "    new_second_sample = second_sample * (1 - mask)\n",
        "    hybrid_image = new_first_sample + new_second_sample\n",
        "    return hybrid_image\n",
        "# دو نمونه از داده های اصلی و دو نمونه از داده هیبرد تولید شده در این قسمت نشان داده شده است\n",
        "for x, y in loader_tr:\n",
        "    hybrid_data = generate_hybrid_data(x)\n",
        "    original_image1 = x[0]\n",
        "    original_image2 = x[1]\n",
        "    hybrid_image1 = hybrid_data[0]\n",
        "    hybrid_image2 = hybrid_data[1]\n",
        "    plt.figure(figsize=(20, 8))\n",
        "    plt.subplot(2, 2, 1)\n",
        "    plt.imshow(original_image1.squeeze(), cmap='gray')\n",
        "    plt.title(\"Original Image 1\")\n",
        "    plt.subplot(2, 2, 2)\n",
        "    plt.imshow(hybrid_image1.squeeze(), cmap='gray')\n",
        "    plt.title(\"Hybrid Image 1\")\n",
        "    plt.subplot(2, 2, 3)\n",
        "    plt.imshow(original_image2.squeeze(), cmap='gray')\n",
        "    plt.title(\"Original Image 2\")\n",
        "    plt.subplot(2, 2, 4)\n",
        "    plt.imshow(hybrid_image2.squeeze(), cmap='gray')\n",
        "    plt.title(\"Hybrid Image 2\")\n",
        "    plt.show()\n",
        "    break\n"
      ],
      "metadata": {
        "colab": {
          "base_uri": "https://localhost:8080/",
          "height": 699
        },
        "id": "V3QZudDVxdtw",
        "outputId": "4f6a0009-5028-4116-f77f-e52904625410"
      },
      "execution_count": null,
      "outputs": [
        {
          "output_type": "display_data",
          "data": {
            "text/plain": [
              "<Figure size 2000x800 with 4 Axes>"
            ],
            "image/png": "[encoded data removed]"
          },
          "metadata": {}
        }
      ]
    }
  ]
}